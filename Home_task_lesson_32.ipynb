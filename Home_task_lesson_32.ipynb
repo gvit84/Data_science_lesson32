{
 "cells": [
  {
   "cell_type": "code",
   "execution_count": 1,
   "id": "c9de2008",
   "metadata": {},
   "outputs": [],
   "source": [
    "import pandas as pd"
   ]
  },
  {
   "cell_type": "markdown",
   "id": "87274f20",
   "metadata": {},
   "source": [
    "**Створюємо датафрейм:**"
   ]
  },
  {
   "cell_type": "code",
   "execution_count": 3,
   "id": "f119a4ce",
   "metadata": {},
   "outputs": [],
   "source": [
    "df = pd.DataFrame()"
   ]
  },
  {
   "cell_type": "markdown",
   "id": "79f11157",
   "metadata": {},
   "source": [
    "У відповідності до завдання наповнюємо датафрейм даними на 15 строк та 5 стовбців (15*5), що містить наступну інформацію:\n",
    "\n",
    "а) Ім'я студента;\n",
    "\n",
    "б) Прізвище студента;\n",
    "\n",
    "в) Середній бал;\n",
    "\n",
    "г) Оцінка за поточний екзамен;\n",
    "\n",
    "д) Кількість спроб здачі поточного екзамену.\n"
   ]
  },
  {
   "cell_type": "code",
   "execution_count": 64,
   "id": "d7041de3",
   "metadata": {},
   "outputs": [],
   "source": [
    "students = {\n",
    "'First_name': ['Nick', 'John', 'Peter', 'Jack', 'Daniel', 'David', 'William', 'Joseph', 'Charles', 'Matthew', 'Donald', 'Paul', 'Kevin', 'Brian', 'Ronald'],\n",
    "'Last_name': ['Anderson', 'Black', 'Bishop', 'Harris', 'King', 'Parker', 'Cooper', 'Morris', 'Davis', 'Watson', 'Ellis', 'Foster', 'Kelly', 'Palmer', 'Russell'],\n",
    "'Average_mark': [88, 94, 70, 98, 80,  81, 65, 87, 70, 71, 79, 91, 57, 77, 69],\n",
    "'Grade_for_the_exam': [90, 96, 68, 99, 84, 60, 91, 72, 77, 85, 97, 58, 81, 74, 92],\n",
    "'Number_of_attempts': [1, 1, 3, 1, 2, 4, 2, 1, 3, 1, 1, 5, 2, 3, 1]\n",
    "}"
   ]
  },
  {
   "cell_type": "code",
   "execution_count": 65,
   "id": "c19d15b2",
   "metadata": {},
   "outputs": [
    {
     "data": {
      "text/html": [
       "<div>\n",
       "<style scoped>\n",
       "    .dataframe tbody tr th:only-of-type {\n",
       "        vertical-align: middle;\n",
       "    }\n",
       "\n",
       "    .dataframe tbody tr th {\n",
       "        vertical-align: top;\n",
       "    }\n",
       "\n",
       "    .dataframe thead th {\n",
       "        text-align: right;\n",
       "    }\n",
       "</style>\n",
       "<table border=\"1\" class=\"dataframe\">\n",
       "  <thead>\n",
       "    <tr style=\"text-align: right;\">\n",
       "      <th></th>\n",
       "      <th>First_name</th>\n",
       "      <th>Last_name</th>\n",
       "      <th>Average_mark</th>\n",
       "      <th>Grade_for_the_exam</th>\n",
       "      <th>Number_of_attempts</th>\n",
       "    </tr>\n",
       "  </thead>\n",
       "  <tbody>\n",
       "    <tr>\n",
       "      <th>1</th>\n",
       "      <td>Nick</td>\n",
       "      <td>Anderson</td>\n",
       "      <td>88</td>\n",
       "      <td>90</td>\n",
       "      <td>1</td>\n",
       "    </tr>\n",
       "    <tr>\n",
       "      <th>2</th>\n",
       "      <td>John</td>\n",
       "      <td>Black</td>\n",
       "      <td>94</td>\n",
       "      <td>96</td>\n",
       "      <td>1</td>\n",
       "    </tr>\n",
       "    <tr>\n",
       "      <th>3</th>\n",
       "      <td>Peter</td>\n",
       "      <td>Bishop</td>\n",
       "      <td>70</td>\n",
       "      <td>68</td>\n",
       "      <td>3</td>\n",
       "    </tr>\n",
       "    <tr>\n",
       "      <th>4</th>\n",
       "      <td>Jack</td>\n",
       "      <td>Harris</td>\n",
       "      <td>98</td>\n",
       "      <td>99</td>\n",
       "      <td>1</td>\n",
       "    </tr>\n",
       "    <tr>\n",
       "      <th>5</th>\n",
       "      <td>Daniel</td>\n",
       "      <td>King</td>\n",
       "      <td>80</td>\n",
       "      <td>84</td>\n",
       "      <td>2</td>\n",
       "    </tr>\n",
       "    <tr>\n",
       "      <th>6</th>\n",
       "      <td>David</td>\n",
       "      <td>Parker</td>\n",
       "      <td>81</td>\n",
       "      <td>60</td>\n",
       "      <td>4</td>\n",
       "    </tr>\n",
       "    <tr>\n",
       "      <th>7</th>\n",
       "      <td>William</td>\n",
       "      <td>Cooper</td>\n",
       "      <td>65</td>\n",
       "      <td>91</td>\n",
       "      <td>2</td>\n",
       "    </tr>\n",
       "    <tr>\n",
       "      <th>8</th>\n",
       "      <td>Joseph</td>\n",
       "      <td>Morris</td>\n",
       "      <td>87</td>\n",
       "      <td>72</td>\n",
       "      <td>1</td>\n",
       "    </tr>\n",
       "    <tr>\n",
       "      <th>9</th>\n",
       "      <td>Charles</td>\n",
       "      <td>Davis</td>\n",
       "      <td>70</td>\n",
       "      <td>77</td>\n",
       "      <td>3</td>\n",
       "    </tr>\n",
       "    <tr>\n",
       "      <th>10</th>\n",
       "      <td>Matthew</td>\n",
       "      <td>Watson</td>\n",
       "      <td>71</td>\n",
       "      <td>85</td>\n",
       "      <td>1</td>\n",
       "    </tr>\n",
       "    <tr>\n",
       "      <th>11</th>\n",
       "      <td>Donald</td>\n",
       "      <td>Ellis</td>\n",
       "      <td>79</td>\n",
       "      <td>97</td>\n",
       "      <td>1</td>\n",
       "    </tr>\n",
       "    <tr>\n",
       "      <th>12</th>\n",
       "      <td>Paul</td>\n",
       "      <td>Foster</td>\n",
       "      <td>91</td>\n",
       "      <td>58</td>\n",
       "      <td>5</td>\n",
       "    </tr>\n",
       "    <tr>\n",
       "      <th>13</th>\n",
       "      <td>Kevin</td>\n",
       "      <td>Kelly</td>\n",
       "      <td>57</td>\n",
       "      <td>81</td>\n",
       "      <td>2</td>\n",
       "    </tr>\n",
       "    <tr>\n",
       "      <th>14</th>\n",
       "      <td>Brian</td>\n",
       "      <td>Palmer</td>\n",
       "      <td>77</td>\n",
       "      <td>74</td>\n",
       "      <td>3</td>\n",
       "    </tr>\n",
       "    <tr>\n",
       "      <th>15</th>\n",
       "      <td>Ronald</td>\n",
       "      <td>Russell</td>\n",
       "      <td>69</td>\n",
       "      <td>92</td>\n",
       "      <td>1</td>\n",
       "    </tr>\n",
       "  </tbody>\n",
       "</table>\n",
       "</div>"
      ],
      "text/plain": [
       "   First_name Last_name  Average_mark  Grade_for_the_exam  Number_of_attempts\n",
       "1        Nick  Anderson            88                  90                   1\n",
       "2        John     Black            94                  96                   1\n",
       "3       Peter    Bishop            70                  68                   3\n",
       "4        Jack    Harris            98                  99                   1\n",
       "5      Daniel      King            80                  84                   2\n",
       "6       David    Parker            81                  60                   4\n",
       "7     William    Cooper            65                  91                   2\n",
       "8      Joseph    Morris            87                  72                   1\n",
       "9     Charles     Davis            70                  77                   3\n",
       "10    Matthew    Watson            71                  85                   1\n",
       "11     Donald     Ellis            79                  97                   1\n",
       "12       Paul    Foster            91                  58                   5\n",
       "13      Kevin     Kelly            57                  81                   2\n",
       "14      Brian    Palmer            77                  74                   3\n",
       "15     Ronald   Russell            69                  92                   1"
      ]
     },
     "execution_count": 65,
     "metadata": {},
     "output_type": "execute_result"
    }
   ],
   "source": [
    "df = pd.DataFrame(data=students, index=[1,2,3,4,5,6,7,8,9,10,11,12,13,14,15])\n",
    "df"
   ]
  },
  {
   "cell_type": "markdown",
   "id": "91dd6ba6",
   "metadata": {},
   "source": [
    "**Додамо до датафрейму стовпчик, що містить дані про допуск студента на наступний курс:**"
   ]
  },
  {
   "cell_type": "code",
   "execution_count": 143,
   "id": "2f3b92d8",
   "metadata": {},
   "outputs": [],
   "source": [
    "admission_to_the_next_course = ['yes', 'yes', 'no', 'yes', 'yes', 'no', 'yes', 'yes', 'yes', 'yes', 'yes', 'no', 'yes', 'yes', 'yes']"
   ]
  },
  {
   "cell_type": "code",
   "execution_count": 144,
   "id": "ae492b40",
   "metadata": {},
   "outputs": [
    {
     "data": {
      "text/html": [
       "<div>\n",
       "<style scoped>\n",
       "    .dataframe tbody tr th:only-of-type {\n",
       "        vertical-align: middle;\n",
       "    }\n",
       "\n",
       "    .dataframe tbody tr th {\n",
       "        vertical-align: top;\n",
       "    }\n",
       "\n",
       "    .dataframe thead th {\n",
       "        text-align: right;\n",
       "    }\n",
       "</style>\n",
       "<table border=\"1\" class=\"dataframe\">\n",
       "  <thead>\n",
       "    <tr style=\"text-align: right;\">\n",
       "      <th></th>\n",
       "      <th>First_name</th>\n",
       "      <th>Last_name</th>\n",
       "      <th>Average_mark</th>\n",
       "      <th>Grade_for_the_exam</th>\n",
       "      <th>Number_of_attempts</th>\n",
       "      <th>Admission_to_the_next_course</th>\n",
       "    </tr>\n",
       "  </thead>\n",
       "  <tbody>\n",
       "    <tr>\n",
       "      <th>1</th>\n",
       "      <td>Nick</td>\n",
       "      <td>Anderson</td>\n",
       "      <td>88</td>\n",
       "      <td>90</td>\n",
       "      <td>1</td>\n",
       "      <td>yes</td>\n",
       "    </tr>\n",
       "    <tr>\n",
       "      <th>2</th>\n",
       "      <td>John</td>\n",
       "      <td>Black</td>\n",
       "      <td>94</td>\n",
       "      <td>96</td>\n",
       "      <td>1</td>\n",
       "      <td>yes</td>\n",
       "    </tr>\n",
       "    <tr>\n",
       "      <th>3</th>\n",
       "      <td>Peter</td>\n",
       "      <td>Bishop</td>\n",
       "      <td>70</td>\n",
       "      <td>68</td>\n",
       "      <td>3</td>\n",
       "      <td>no</td>\n",
       "    </tr>\n",
       "    <tr>\n",
       "      <th>4</th>\n",
       "      <td>Jack</td>\n",
       "      <td>Harris</td>\n",
       "      <td>98</td>\n",
       "      <td>99</td>\n",
       "      <td>1</td>\n",
       "      <td>yes</td>\n",
       "    </tr>\n",
       "    <tr>\n",
       "      <th>5</th>\n",
       "      <td>Daniel</td>\n",
       "      <td>King</td>\n",
       "      <td>80</td>\n",
       "      <td>84</td>\n",
       "      <td>2</td>\n",
       "      <td>yes</td>\n",
       "    </tr>\n",
       "    <tr>\n",
       "      <th>6</th>\n",
       "      <td>David</td>\n",
       "      <td>Parker</td>\n",
       "      <td>81</td>\n",
       "      <td>60</td>\n",
       "      <td>4</td>\n",
       "      <td>no</td>\n",
       "    </tr>\n",
       "    <tr>\n",
       "      <th>7</th>\n",
       "      <td>William</td>\n",
       "      <td>Cooper</td>\n",
       "      <td>65</td>\n",
       "      <td>91</td>\n",
       "      <td>2</td>\n",
       "      <td>yes</td>\n",
       "    </tr>\n",
       "    <tr>\n",
       "      <th>8</th>\n",
       "      <td>Joseph</td>\n",
       "      <td>Morris</td>\n",
       "      <td>87</td>\n",
       "      <td>72</td>\n",
       "      <td>1</td>\n",
       "      <td>yes</td>\n",
       "    </tr>\n",
       "    <tr>\n",
       "      <th>9</th>\n",
       "      <td>Charles</td>\n",
       "      <td>Davis</td>\n",
       "      <td>70</td>\n",
       "      <td>77</td>\n",
       "      <td>3</td>\n",
       "      <td>yes</td>\n",
       "    </tr>\n",
       "    <tr>\n",
       "      <th>10</th>\n",
       "      <td>Matthew</td>\n",
       "      <td>Watson</td>\n",
       "      <td>71</td>\n",
       "      <td>85</td>\n",
       "      <td>1</td>\n",
       "      <td>yes</td>\n",
       "    </tr>\n",
       "    <tr>\n",
       "      <th>11</th>\n",
       "      <td>Donald</td>\n",
       "      <td>Ellis</td>\n",
       "      <td>79</td>\n",
       "      <td>97</td>\n",
       "      <td>1</td>\n",
       "      <td>yes</td>\n",
       "    </tr>\n",
       "    <tr>\n",
       "      <th>12</th>\n",
       "      <td>Paul</td>\n",
       "      <td>Foster</td>\n",
       "      <td>91</td>\n",
       "      <td>58</td>\n",
       "      <td>5</td>\n",
       "      <td>no</td>\n",
       "    </tr>\n",
       "    <tr>\n",
       "      <th>13</th>\n",
       "      <td>Kevin</td>\n",
       "      <td>Kelly</td>\n",
       "      <td>57</td>\n",
       "      <td>81</td>\n",
       "      <td>2</td>\n",
       "      <td>yes</td>\n",
       "    </tr>\n",
       "    <tr>\n",
       "      <th>14</th>\n",
       "      <td>Brian</td>\n",
       "      <td>Palmer</td>\n",
       "      <td>77</td>\n",
       "      <td>74</td>\n",
       "      <td>3</td>\n",
       "      <td>yes</td>\n",
       "    </tr>\n",
       "    <tr>\n",
       "      <th>15</th>\n",
       "      <td>Ronald</td>\n",
       "      <td>Russell</td>\n",
       "      <td>69</td>\n",
       "      <td>92</td>\n",
       "      <td>1</td>\n",
       "      <td>yes</td>\n",
       "    </tr>\n",
       "  </tbody>\n",
       "</table>\n",
       "</div>"
      ],
      "text/plain": [
       "   First_name Last_name  Average_mark  Grade_for_the_exam  Number_of_attempts  \\\n",
       "1        Nick  Anderson            88                  90                   1   \n",
       "2        John     Black            94                  96                   1   \n",
       "3       Peter    Bishop            70                  68                   3   \n",
       "4        Jack    Harris            98                  99                   1   \n",
       "5      Daniel      King            80                  84                   2   \n",
       "6       David    Parker            81                  60                   4   \n",
       "7     William    Cooper            65                  91                   2   \n",
       "8      Joseph    Morris            87                  72                   1   \n",
       "9     Charles     Davis            70                  77                   3   \n",
       "10    Matthew    Watson            71                  85                   1   \n",
       "11     Donald     Ellis            79                  97                   1   \n",
       "12       Paul    Foster            91                  58                   5   \n",
       "13      Kevin     Kelly            57                  81                   2   \n",
       "14      Brian    Palmer            77                  74                   3   \n",
       "15     Ronald   Russell            69                  92                   1   \n",
       "\n",
       "   Admission_to_the_next_course  \n",
       "1                           yes  \n",
       "2                           yes  \n",
       "3                            no  \n",
       "4                           yes  \n",
       "5                           yes  \n",
       "6                            no  \n",
       "7                           yes  \n",
       "8                           yes  \n",
       "9                           yes  \n",
       "10                          yes  \n",
       "11                          yes  \n",
       "12                           no  \n",
       "13                          yes  \n",
       "14                          yes  \n",
       "15                          yes  "
      ]
     },
     "execution_count": 144,
     "metadata": {},
     "output_type": "execute_result"
    }
   ],
   "source": [
    "df['Admission_to_the_next_course'] = admission_to_the_next_course\n",
    "df"
   ]
  },
  {
   "cell_type": "markdown",
   "id": "991235bf",
   "metadata": {},
   "source": [
    "**Знайдемо мінімальний, максимальний, середній та медіанний показники середнього балу студентів:**"
   ]
  },
  {
   "cell_type": "code",
   "execution_count": 72,
   "id": "a79a85fa",
   "metadata": {},
   "outputs": [
    {
     "data": {
      "text/plain": [
       "min       57.000000\n",
       "max       98.000000\n",
       "mean      78.466667\n",
       "median    79.000000\n",
       "Name: Average_mark, dtype: float64"
      ]
     },
     "execution_count": 72,
     "metadata": {},
     "output_type": "execute_result"
    }
   ],
   "source": [
    "df['Average_mark'].agg(['min','max', 'mean', 'median'])"
   ]
  },
  {
   "cell_type": "markdown",
   "id": "9c0836a9",
   "metadata": {},
   "source": [
    "**Знайдемо кількість студентів, які здали поточний екзамен з першого разу, тобто Number_of_attempts = 1:**"
   ]
  },
  {
   "cell_type": "code",
   "execution_count": 131,
   "id": "a308bdf4",
   "metadata": {},
   "outputs": [
    {
     "data": {
      "text/plain": [
       "7"
      ]
     },
     "execution_count": 131,
     "metadata": {},
     "output_type": "execute_result"
    }
   ],
   "source": [
    "count = df.loc[df['Number_of_attempts'] == 1, 'Number_of_attempts'].count()\n",
    "count"
   ]
  },
  {
   "cell_type": "markdown",
   "id": "79a89fe2",
   "metadata": {},
   "source": [
    "**Збережемо дані 'Average_mark' у вигляді серії:**"
   ]
  },
  {
   "cell_type": "code",
   "execution_count": 141,
   "id": "4a12d4a1",
   "metadata": {},
   "outputs": [
    {
     "data": {
      "text/plain": [
       "1     88\n",
       "2     94\n",
       "3     70\n",
       "4     98\n",
       "5     80\n",
       "6     81\n",
       "7     65\n",
       "8     87\n",
       "9     70\n",
       "10    71\n",
       "11    79\n",
       "12    91\n",
       "13    57\n",
       "14    77\n",
       "15    69\n",
       "Name: Average_mark, dtype: int64"
      ]
     },
     "execution_count": 141,
     "metadata": {},
     "output_type": "execute_result"
    }
   ],
   "source": [
    "Average_mark = df['Average_mark']\n",
    "Average_mark"
   ]
  },
  {
   "cell_type": "code",
   "execution_count": 142,
   "id": "e05f9e4a",
   "metadata": {},
   "outputs": [
    {
     "data": {
      "text/plain": [
       "pandas.core.series.Series"
      ]
     },
     "execution_count": 142,
     "metadata": {},
     "output_type": "execute_result"
    }
   ],
   "source": [
    "type(Average_mark)"
   ]
  },
  {
   "cell_type": "code",
   "execution_count": null,
   "id": "b7647cde",
   "metadata": {},
   "outputs": [],
   "source": []
  }
 ],
 "metadata": {
  "kernelspec": {
   "display_name": "Python 3 (ipykernel)",
   "language": "python",
   "name": "python3"
  },
  "language_info": {
   "codemirror_mode": {
    "name": "ipython",
    "version": 3
   },
   "file_extension": ".py",
   "mimetype": "text/x-python",
   "name": "python",
   "nbconvert_exporter": "python",
   "pygments_lexer": "ipython3",
   "version": "3.9.13"
  }
 },
 "nbformat": 4,
 "nbformat_minor": 5
}
